{
 "cells": [
  {
   "cell_type": "code",
   "execution_count": 8,
   "metadata": {},
   "outputs": [],
   "source": [
    "import pickle\n",
    "import pandas as pd"
   ]
  },
  {
   "cell_type": "code",
   "execution_count": 15,
   "metadata": {},
   "outputs": [],
   "source": [
    "def distancefunc(i,j,data):\n",
    "#     print(i,j)\n",
    "    dist = 0\n",
    "    for k in range(1,8):\n",
    "#         print(k)\n",
    "        dist = dist + abs(data.iloc[i][k]-data.iloc[j][k])\n",
    "    match = 0\n",
    "#     a = data.iloc[i][5].split(', ')\n",
    "#     a=[]\n",
    "#     if data.iloc[i][0] in riverdic_final.keys():\n",
    "#         a = riverdic_final[data.iloc[i][0]]\n",
    "#     b = data.iloc[j][5].split(', ')\n",
    "    b = []\n",
    "#     if data.iloc[j][0] in riverdic_final.keys():\n",
    "#         b = riverdic_final[data.iloc[j][0]]\n",
    "#     for river in a:\n",
    "#         if river in b:\n",
    "#             match = match + 2\n",
    "#     if match == 0:\n",
    "#         dist += 1\n",
    "#     else:\n",
    "#         dist += 1/match\n",
    "    return dist"
   ]
  },
  {
   "cell_type": "code",
   "execution_count": 16,
   "metadata": {},
   "outputs": [
    {
     "data": {
      "text/html": [
       "<div>\n",
       "<style scoped>\n",
       "    .dataframe tbody tr th:only-of-type {\n",
       "        vertical-align: middle;\n",
       "    }\n",
       "\n",
       "    .dataframe tbody tr th {\n",
       "        vertical-align: top;\n",
       "    }\n",
       "\n",
       "    .dataframe thead th {\n",
       "        text-align: right;\n",
       "    }\n",
       "</style>\n",
       "<table border=\"1\" class=\"dataframe\">\n",
       "  <thead>\n",
       "    <tr style=\"text-align: right;\">\n",
       "      <th></th>\n",
       "      <th>District Name</th>\n",
       "      <th>Population</th>\n",
       "      <th>Population Growth</th>\n",
       "      <th>Temperature Max</th>\n",
       "      <th>Temperature Min</th>\n",
       "      <th>Rainfall</th>\n",
       "      <th>Latitude</th>\n",
       "      <th>Longitude</th>\n",
       "      <th>AQI</th>\n",
       "    </tr>\n",
       "  </thead>\n",
       "  <tbody>\n",
       "    <tr>\n",
       "      <th>0</th>\n",
       "      <td>Alirajpur</td>\n",
       "      <td>728999</td>\n",
       "      <td>19.45%</td>\n",
       "      <td>33.48</td>\n",
       "      <td>17.51</td>\n",
       "      <td>2.67</td>\n",
       "      <td>22.303301</td>\n",
       "      <td>74.359100</td>\n",
       "      <td>121.53</td>\n",
       "    </tr>\n",
       "    <tr>\n",
       "      <th>1</th>\n",
       "      <td>Anuppur</td>\n",
       "      <td>749237</td>\n",
       "      <td>12.30%</td>\n",
       "      <td>31.92</td>\n",
       "      <td>16.61</td>\n",
       "      <td>4.13</td>\n",
       "      <td>23.115179</td>\n",
       "      <td>81.700500</td>\n",
       "      <td>94.32</td>\n",
       "    </tr>\n",
       "    <tr>\n",
       "      <th>2</th>\n",
       "      <td>Ashoknagar</td>\n",
       "      <td>845071</td>\n",
       "      <td>22.66%</td>\n",
       "      <td>32.62</td>\n",
       "      <td>16.15</td>\n",
       "      <td>3.44</td>\n",
       "      <td>24.579901</td>\n",
       "      <td>77.728996</td>\n",
       "      <td>108.26</td>\n",
       "    </tr>\n",
       "    <tr>\n",
       "      <th>3</th>\n",
       "      <td>Balaghat</td>\n",
       "      <td>1701698</td>\n",
       "      <td>13.60%</td>\n",
       "      <td>33.24</td>\n",
       "      <td>16.15</td>\n",
       "      <td>3.08</td>\n",
       "      <td>21.812876</td>\n",
       "      <td>80.183830</td>\n",
       "      <td>153.80</td>\n",
       "    </tr>\n",
       "    <tr>\n",
       "      <th>4</th>\n",
       "      <td>Barwani</td>\n",
       "      <td>1385881</td>\n",
       "      <td>27.57%</td>\n",
       "      <td>32.59</td>\n",
       "      <td>16.15</td>\n",
       "      <td>2.09</td>\n",
       "      <td>22.035400</td>\n",
       "      <td>74.899803</td>\n",
       "      <td>108.00</td>\n",
       "    </tr>\n",
       "  </tbody>\n",
       "</table>\n",
       "</div>"
      ],
      "text/plain": [
       "  District Name  Population Population Growth  Temperature Max  \\\n",
       "0     Alirajpur      728999            19.45%            33.48   \n",
       "1       Anuppur      749237            12.30%            31.92   \n",
       "2    Ashoknagar      845071            22.66%            32.62   \n",
       "3      Balaghat     1701698            13.60%            33.24   \n",
       "4       Barwani     1385881            27.57%            32.59   \n",
       "\n",
       "   Temperature Min  Rainfall   Latitude  Longitude     AQI  \n",
       "0            17.51      2.67  22.303301  74.359100  121.53  \n",
       "1            16.61      4.13  23.115179  81.700500   94.32  \n",
       "2            16.15      3.44  24.579901  77.728996  108.26  \n",
       "3            16.15      3.08  21.812876  80.183830  153.80  \n",
       "4            16.15      2.09  22.035400  74.899803  108.00  "
      ]
     },
     "execution_count": 16,
     "metadata": {},
     "output_type": "execute_result"
    }
   ],
   "source": [
    "data = pd.read_csv('new_clustering.csv')\n",
    "data.head()"
   ]
  },
  {
   "cell_type": "code",
   "execution_count": 21,
   "metadata": {},
   "outputs": [],
   "source": [
    "def ret_cluster_list(name):\n",
    "    data = pd.read_csv('new_clustering.csv')\n",
    "    for i in range(0,50):\n",
    "#     print(data.iloc[i][2])\n",
    "        data.iloc[i,2] = data.iloc[i,2][:-1]\n",
    "        data.iloc[i,2] = float(data.iloc[i,2])\n",
    "    index = {}\n",
    "    for i in range(0,50):\n",
    "        index[data.iloc[i][0]] = i\n",
    "    with open(\"final_list.txt\", \"rb\") as fp:\n",
    "        list_final = pickle.load(fp)\n",
    "    l = []\n",
    "    for i in list_final:\n",
    "        if name in i:\n",
    "            l=i\n",
    "            break\n",
    "    dist = []\n",
    "    for k in l:\n",
    "        dist.append((distancefunc(index[name],index[k],data),k))\n",
    "    dist.sort()\n",
    "    color = {}\n",
    "    c = '#ffff99'\n",
    "    for i in range(0,len(dist)):\n",
    "        if len(dist)-i<=4:\n",
    "            c = '#ffff00'\n",
    "        if len(dist)-i<=2:\n",
    "            c = '#cccc00'\n",
    "        color[dist[i][1]] = c\n",
    "    return color"
   ]
  },
  {
   "cell_type": "code",
   "execution_count": 22,
   "metadata": {},
   "outputs": [
    {
     "name": "stdout",
     "output_type": "stream",
     "text": [
      "{'Ujjain': '#ffff00', 'Morena': '#ffff00', 'Gwalior': '#cccc00', 'West Nimar': '#cccc00'}\n"
     ]
    }
   ],
   "source": [
    "print(ret_cluster_list('Ujjain'))"
   ]
  },
  {
   "cell_type": "code",
   "execution_count": null,
   "metadata": {},
   "outputs": [],
   "source": []
  }
 ],
 "metadata": {
  "kernelspec": {
   "display_name": "Python 3",
   "language": "python",
   "name": "python3"
  },
  "language_info": {
   "codemirror_mode": {
    "name": "ipython",
    "version": 3
   },
   "file_extension": ".py",
   "mimetype": "text/x-python",
   "name": "python",
   "nbconvert_exporter": "python",
   "pygments_lexer": "ipython3",
   "version": "3.6.7"
  }
 },
 "nbformat": 4,
 "nbformat_minor": 2
}
