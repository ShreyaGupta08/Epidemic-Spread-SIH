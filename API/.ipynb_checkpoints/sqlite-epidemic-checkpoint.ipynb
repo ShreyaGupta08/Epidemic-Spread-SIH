{
 "cells": [
  {
   "cell_type": "code",
   "execution_count": 13,
   "metadata": {
    "collapsed": true
   },
   "outputs": [],
   "source": [
    "import sqlite3"
   ]
  },
  {
   "cell_type": "code",
   "execution_count": 12,
   "metadata": {
    "collapsed": true
   },
   "outputs": [],
   "source": [
    "!rm epidemic.db"
   ]
  },
  {
   "cell_type": "code",
   "execution_count": 14,
   "metadata": {
    "collapsed": true
   },
   "outputs": [],
   "source": [
    "DB_PATH = 'epidemic.db'\n",
    "db = sqlite3.connect(DB_PATH)\n",
    "cursor = db.cursor() #This cursor helps making queries by interacting with the DB loaded from the disk above"
   ]
  },
  {
   "cell_type": "code",
   "execution_count": 15,
   "metadata": {
    "collapsed": true
   },
   "outputs": [],
   "source": [
    "query = \"\"\"\n",
    "                        CREATE TABLE Hospital\n",
    "                         (\n",
    "                             id INT PRIMARY KEY,\n",
    "                             name TEXT NOT NULL,\n",
    "                             location TEXT NOT NULL,\n",
    "                             userid INT NOT NULL\n",
    "                         );\n",
    "        \"\"\"\n",
    "cursor.execute(query)\n",
    "db.commit()"
   ]
  },
  {
   "cell_type": "code",
   "execution_count": 16,
   "metadata": {
    "collapsed": true
   },
   "outputs": [],
   "source": [
    "query = \"\"\"\n",
    "                    CREATE TABLE Diseases\n",
    "                         (\n",
    "                             id INT PRIMARY KEY,\n",
    "                             name TEXT NOT NULL,\n",
    "                             meansofspread TEXT NOT NULL,\n",
    "                             symptoms TEXT\n",
    "                         );\n",
    "\n",
    "\"\"\"                        \n",
    "cursor.execute(query)\n",
    "db.commit()\n"
   ]
  },
  {
   "cell_type": "code",
   "execution_count": 17,
   "metadata": {
    "collapsed": true
   },
   "outputs": [],
   "source": [
    "query = \"\"\"\n",
    "                \n",
    "                         CREATE TABLE Drugs\n",
    "                         (\n",
    "                             drugid INT PRIMARY KEY,\n",
    "                             drugname TEXT NOT NULL,\n",
    "                             drugreq INT NOT NULL,\n",
    "                             available INT NOT NULL, \n",
    "                             diseaseid INT NOT NULL,\n",
    "                             FOREIGN KEY (diseaseid)\n",
    "                             REFERENCES Diseases(id)\n",
    "                         );\n",
    "\"\"\"\n",
    "cursor.execute(query)\n",
    "db.commit()"
   ]
  },
  {
   "cell_type": "code",
   "execution_count": 18,
   "metadata": {
    "collapsed": true
   },
   "outputs": [],
   "source": [
    "query = \"\"\"\n",
    "                        CREATE TABLE Stats\n",
    "                         (\n",
    "                             diseaseid INT PRIMARY KEY,\n",
    "                             ncases INT NOT NULL,\n",
    "                             ndeaths INT NOT NULL,\n",
    "                             spreadprob INT,\n",
    "                             FOREIGN KEY (diseaseid)\n",
    "                             REFERENCES Diseases(id)\n",
    "                         );\n",
    "\"\"\"\n",
    "cursor.execute(query)\n",
    "db.commit()"
   ]
  },
  {
   "cell_type": "code",
   "execution_count": 19,
   "metadata": {
    "collapsed": true
   },
   "outputs": [],
   "source": [
    "query = \"\"\"\n",
    "                    CREATE TABLE Cases\n",
    "                    (\n",
    "                         id INTEGER PRIMARY KEY AUTOINCREMENT,\n",
    "                         date TEXT NOT NULL,\n",
    "                         diseaseid INT NOT NULL,\n",
    "                         death INT,\n",
    "                         location TEXT NOT NULL,\n",
    "                         FOREIGN KEY (diseaseid) REFERENCES Diseases(id)\n",
    "                         FOREIGN KEY (location) REFERENCES Hospital(location)\n",
    "                     );\n",
    "\"\"\"\n",
    "cursor.execute(query)\n",
    "db.commit()"
   ]
  },
  {
   "cell_type": "code",
   "execution_count": 20,
   "metadata": {
    "collapsed": true
   },
   "outputs": [],
   "source": [
    "query = \"\"\"\n",
    "                CREATE TABLE Login\n",
    "                (\n",
    "                        id INTEGER PRIMARY KEY,\n",
    "                        password varchar(20) NOT NULL\n",
    "                \n",
    "                );\n",
    "\"\"\"\n",
    "cursor.execute(query)\n",
    "db.commit()\n",
    "db.close()"
   ]
  }
 ],
 "metadata": {
  "kernelspec": {
   "display_name": "Python 3",
   "language": "python",
   "name": "python3"
  },
  "language_info": {
   "codemirror_mode": {
    "name": "ipython",
    "version": 3
   },
   "file_extension": ".py",
   "mimetype": "text/x-python",
   "name": "python",
   "nbconvert_exporter": "python",
   "pygments_lexer": "ipython3",
   "version": "3.6.3"
  }
 },
 "nbformat": 4,
 "nbformat_minor": 2
}
