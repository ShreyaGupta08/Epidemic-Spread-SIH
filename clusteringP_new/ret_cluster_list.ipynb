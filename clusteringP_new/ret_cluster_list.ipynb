{
 "cells": [
  {
   "cell_type": "code",
   "execution_count": 1,
   "metadata": {},
   "outputs": [],
   "source": [
    "import pickle"
   ]
  },
  {
   "cell_type": "code",
   "execution_count": 3,
   "metadata": {},
   "outputs": [],
   "source": [
    "# with open(\"final_list.txt\", \"rb\") as fp:\n",
    "#     list_final = pickle.load(fp)"
   ]
  },
  {
   "cell_type": "code",
   "execution_count": 4,
   "metadata": {},
   "outputs": [
    {
     "data": {
      "text/plain": [
       "[['Kerala'],\n",
       " ['Sikkim'],\n",
       " ['Arunachal Pradesh', 'Assam', 'Manipur', 'Mizoram'],\n",
       " ['Delhi',\n",
       "  'Bihar',\n",
       "  'West Bengal',\n",
       "  'Jharkhand',\n",
       "  'Andhra Pradesh',\n",
       "  'Karnataka',\n",
       "  'Tamil Nadu',\n",
       "  'Chattisgarh',\n",
       "  'Orissa',\n",
       "  'Rajasthan',\n",
       "  'Gujarat',\n",
       "  'Maharashtra',\n",
       "  'Madhya Pradesh',\n",
       "  'Haryana',\n",
       "  'Uttar Pradesh',\n",
       "  'Uttarakhand',\n",
       "  'Himachal Pradesh',\n",
       "  'Jammu & Kashmir',\n",
       "  'Punjab'],\n",
       " ['Goa', 'Meghalaya', 'Nagaland', 'Tripura']]"
      ]
     },
     "execution_count": 4,
     "metadata": {},
     "output_type": "execute_result"
    }
   ],
   "source": [
    "# list_final"
   ]
  },
  {
   "cell_type": "code",
   "execution_count": 2,
   "metadata": {},
   "outputs": [],
   "source": [
    "def ret_cluster_list(name):\n",
    "    with open(\"final_list.txt\", \"rb\") as fp:\n",
    "        list_final = pickle.load(fp)\n",
    "    for i in list_final:\n",
    "        if name in i:\n",
    "            return i"
   ]
  },
  {
   "cell_type": "code",
   "execution_count": 5,
   "metadata": {},
   "outputs": [
    {
     "name": "stdout",
     "output_type": "stream",
     "text": [
      "['Alirajpur', 'East Nimar', 'West Nimar', 'Mandsaur', 'Neemuch', 'Ratlam', 'Dewas', 'Shajapur', 'Ujjain', 'Sehore']\n"
     ]
    }
   ],
   "source": [
    "print(ret_cluster_list('Ujjain'))"
   ]
  },
  {
   "cell_type": "code",
   "execution_count": null,
   "metadata": {},
   "outputs": [],
   "source": []
  }
 ],
 "metadata": {
  "kernelspec": {
   "display_name": "Python 3",
   "language": "python",
   "name": "python3"
  },
  "language_info": {
   "codemirror_mode": {
    "name": "ipython",
    "version": 3
   },
   "file_extension": ".py",
   "mimetype": "text/x-python",
   "name": "python",
   "nbconvert_exporter": "python",
   "pygments_lexer": "ipython3",
   "version": "3.6.7"
  }
 },
 "nbformat": 4,
 "nbformat_minor": 2
}
