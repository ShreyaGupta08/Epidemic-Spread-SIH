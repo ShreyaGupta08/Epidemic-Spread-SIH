{
 "cells": [
  {
   "cell_type": "code",
   "execution_count": 234,
   "metadata": {},
   "outputs": [
    {
     "name": "stdout",
     "output_type": "stream",
     "text": [
      "The autoreload extension is already loaded. To reload it, use:\n",
      "  %reload_ext autoreload\n"
     ]
    }
   ],
   "source": [
    "%load_ext autoreload\n",
    "%autoreload 2\n",
    "\n",
    "%matplotlib inline"
   ]
  },
  {
   "cell_type": "code",
   "execution_count": 235,
   "metadata": {},
   "outputs": [],
   "source": [
    "from fastai.imports import *\n",
    "from fastai.structured import *\n",
    "\n",
    "from pandas_summary import DataFrameSummary\n",
    "from sklearn.ensemble import RandomForestRegressor, RandomForestClassifier\n",
    "from IPython.display import display\n",
    "\n",
    "from sklearn import metrics"
   ]
  },
  {
   "cell_type": "code",
   "execution_count": 236,
   "metadata": {},
   "outputs": [],
   "source": [
    "path = \"\""
   ]
  },
  {
   "cell_type": "code",
   "execution_count": 237,
   "metadata": {},
   "outputs": [],
   "source": [
    "df_raw = pd.read_csv(f'{path}time-series.csv', low_memory=False)"
   ]
  },
  {
   "cell_type": "code",
   "execution_count": 238,
   "metadata": {},
   "outputs": [
    {
     "data": {
      "text/plain": [
       "Index(['month', 'year', 'state', 'Deaths', ' Cases', 'so2', 'no2', 'rspm/pm',\n",
       "       'precipitation', 'population density',\n",
       "       ' Number of Rural Hospitals (Govt.)',\n",
       "       'Number of Urban Hospitals (Govt.)', 'Birth Rate', '% with toilets',\n",
       "       'Humidity', 'Average temp'],\n",
       "      dtype='object')"
      ]
     },
     "execution_count": 238,
     "metadata": {},
     "output_type": "execute_result"
    }
   ],
   "source": [
    "columns = df_raw.columns\n",
    "columns"
   ]
  },
  {
   "cell_type": "code",
   "execution_count": 239,
   "metadata": {},
   "outputs": [],
   "source": [
    "dic = {}\n",
    "for i in columns:\n",
    "    if i!='District Name':\n",
    "        #maxi = df_raw[i].max()\n",
    "        mini = df_raw[i].min()\n",
    "        dic[i] = mini"
   ]
  },
  {
   "cell_type": "code",
   "execution_count": 240,
   "metadata": {},
   "outputs": [
    {
     "data": {
      "text/plain": [
       "{'month': 'Apr',\n",
       " 'year': 2015,\n",
       " 'state': 'Andhra Pradesh',\n",
       " 'Deaths': 0,\n",
       " ' Cases': 0,\n",
       " 'so2': 2.0,\n",
       " 'no2': 5.0,\n",
       " 'rspm/pm': 7.087432416,\n",
       " 'precipitation': 0.0,\n",
       " 'population density': 17.0,\n",
       " ' Number of Rural Hospitals (Govt.)': 0.0,\n",
       " 'Number of Urban Hospitals (Govt.)': 2,\n",
       " 'Birth Rate': 13.1,\n",
       " '% with toilets': 5.156098145,\n",
       " 'Humidity': 15,\n",
       " 'Average temp': -1}"
      ]
     },
     "execution_count": 240,
     "metadata": {},
     "output_type": "execute_result"
    }
   ],
   "source": [
    "dic"
   ]
  },
  {
   "cell_type": "code",
   "execution_count": 241,
   "metadata": {
    "scrolled": true
   },
   "outputs": [
    {
     "data": {
      "text/html": [
       "<div>\n",
       "<style scoped>\n",
       "    .dataframe tbody tr th:only-of-type {\n",
       "        vertical-align: middle;\n",
       "    }\n",
       "\n",
       "    .dataframe tbody tr th {\n",
       "        vertical-align: top;\n",
       "    }\n",
       "\n",
       "    .dataframe thead th {\n",
       "        text-align: right;\n",
       "    }\n",
       "</style>\n",
       "<table border=\"1\" class=\"dataframe\">\n",
       "  <thead>\n",
       "    <tr style=\"text-align: right;\">\n",
       "      <th></th>\n",
       "      <th>month</th>\n",
       "      <th>year</th>\n",
       "      <th>state</th>\n",
       "      <th>Deaths</th>\n",
       "      <th>Cases</th>\n",
       "      <th>so2</th>\n",
       "      <th>no2</th>\n",
       "      <th>rspm/pm</th>\n",
       "      <th>precipitation</th>\n",
       "      <th>population density</th>\n",
       "      <th>Number of Rural Hospitals (Govt.)</th>\n",
       "      <th>Number of Urban Hospitals (Govt.)</th>\n",
       "      <th>Birth Rate</th>\n",
       "      <th>% with toilets</th>\n",
       "      <th>Humidity</th>\n",
       "      <th>Average temp</th>\n",
       "    </tr>\n",
       "  </thead>\n",
       "  <tbody>\n",
       "    <tr>\n",
       "      <th>0</th>\n",
       "      <td>Jan</td>\n",
       "      <td>2015</td>\n",
       "      <td>Andhra Pradesh</td>\n",
       "      <td>0</td>\n",
       "      <td>132</td>\n",
       "      <td>7.083333</td>\n",
       "      <td>19.472222</td>\n",
       "      <td>70.155556</td>\n",
       "      <td>0.7</td>\n",
       "      <td>308.0</td>\n",
       "      <td>308.0</td>\n",
       "      <td>152</td>\n",
       "      <td>17.5</td>\n",
       "      <td>46.366855</td>\n",
       "      <td>46</td>\n",
       "      <td>21</td>\n",
       "    </tr>\n",
       "    <tr>\n",
       "      <th>1</th>\n",
       "      <td>Feb</td>\n",
       "      <td>2015</td>\n",
       "      <td>Andhra Pradesh</td>\n",
       "      <td>0</td>\n",
       "      <td>88</td>\n",
       "      <td>7.017778</td>\n",
       "      <td>19.480000</td>\n",
       "      <td>74.573333</td>\n",
       "      <td>1.2</td>\n",
       "      <td>308.0</td>\n",
       "      <td>308.0</td>\n",
       "      <td>152</td>\n",
       "      <td>17.5</td>\n",
       "      <td>46.366855</td>\n",
       "      <td>39</td>\n",
       "      <td>24</td>\n",
       "    </tr>\n",
       "    <tr>\n",
       "      <th>2</th>\n",
       "      <td>Mar</td>\n",
       "      <td>2015</td>\n",
       "      <td>Andhra Pradesh</td>\n",
       "      <td>0</td>\n",
       "      <td>44</td>\n",
       "      <td>7.656250</td>\n",
       "      <td>19.111607</td>\n",
       "      <td>76.160714</td>\n",
       "      <td>6.5</td>\n",
       "      <td>308.0</td>\n",
       "      <td>308.0</td>\n",
       "      <td>152</td>\n",
       "      <td>17.5</td>\n",
       "      <td>46.366855</td>\n",
       "      <td>39</td>\n",
       "      <td>28</td>\n",
       "    </tr>\n",
       "    <tr>\n",
       "      <th>3</th>\n",
       "      <td>Apr</td>\n",
       "      <td>2015</td>\n",
       "      <td>Andhra Pradesh</td>\n",
       "      <td>0</td>\n",
       "      <td>44</td>\n",
       "      <td>6.484305</td>\n",
       "      <td>17.995516</td>\n",
       "      <td>76.598214</td>\n",
       "      <td>7.5</td>\n",
       "      <td>308.0</td>\n",
       "      <td>308.0</td>\n",
       "      <td>152</td>\n",
       "      <td>17.5</td>\n",
       "      <td>46.366855</td>\n",
       "      <td>35</td>\n",
       "      <td>31</td>\n",
       "    </tr>\n",
       "    <tr>\n",
       "      <th>4</th>\n",
       "      <td>May</td>\n",
       "      <td>2015</td>\n",
       "      <td>Andhra Pradesh</td>\n",
       "      <td>0</td>\n",
       "      <td>88</td>\n",
       "      <td>6.925581</td>\n",
       "      <td>19.716279</td>\n",
       "      <td>76.062500</td>\n",
       "      <td>84.8</td>\n",
       "      <td>308.0</td>\n",
       "      <td>308.0</td>\n",
       "      <td>152</td>\n",
       "      <td>17.5</td>\n",
       "      <td>46.366855</td>\n",
       "      <td>29</td>\n",
       "      <td>35</td>\n",
       "    </tr>\n",
       "  </tbody>\n",
       "</table>\n",
       "</div>"
      ],
      "text/plain": [
       "  month  year           state  Deaths   Cases       so2        no2    rspm/pm  \\\n",
       "0   Jan  2015  Andhra Pradesh       0     132  7.083333  19.472222  70.155556   \n",
       "1   Feb  2015  Andhra Pradesh       0      88  7.017778  19.480000  74.573333   \n",
       "2   Mar  2015  Andhra Pradesh       0      44  7.656250  19.111607  76.160714   \n",
       "3   Apr  2015  Andhra Pradesh       0      44  6.484305  17.995516  76.598214   \n",
       "4   May  2015  Andhra Pradesh       0      88  6.925581  19.716279  76.062500   \n",
       "\n",
       "   precipitation  population density   Number of Rural Hospitals (Govt.)  \\\n",
       "0            0.7               308.0                               308.0   \n",
       "1            1.2               308.0                               308.0   \n",
       "2            6.5               308.0                               308.0   \n",
       "3            7.5               308.0                               308.0   \n",
       "4           84.8               308.0                               308.0   \n",
       "\n",
       "   Number of Urban Hospitals (Govt.)  Birth Rate  % with toilets  Humidity  \\\n",
       "0                                152        17.5       46.366855        46   \n",
       "1                                152        17.5       46.366855        39   \n",
       "2                                152        17.5       46.366855        39   \n",
       "3                                152        17.5       46.366855        35   \n",
       "4                                152        17.5       46.366855        29   \n",
       "\n",
       "   Average temp  \n",
       "0            21  \n",
       "1            24  \n",
       "2            28  \n",
       "3            31  \n",
       "4            35  "
      ]
     },
     "execution_count": 241,
     "metadata": {},
     "output_type": "execute_result"
    }
   ],
   "source": [
    "df_raw.head()"
   ]
  },
  {
   "cell_type": "code",
   "execution_count": 242,
   "metadata": {},
   "outputs": [
    {
     "data": {
      "text/plain": [
       "(360, 16)"
      ]
     },
     "execution_count": 242,
     "metadata": {},
     "output_type": "execute_result"
    }
   ],
   "source": [
    "df_raw.shape"
   ]
  },
  {
   "cell_type": "code",
   "execution_count": 243,
   "metadata": {},
   "outputs": [],
   "source": [
    "import random\n",
    "# random.uniform(0, 1)"
   ]
  },
  {
   "cell_type": "code",
   "execution_count": 244,
   "metadata": {},
   "outputs": [
    {
     "data": {
      "text/plain": [
       "' Cases'"
      ]
     },
     "execution_count": 244,
     "metadata": {},
     "output_type": "execute_result"
    }
   ],
   "source": [
    "columns[4]"
   ]
  },
  {
   "cell_type": "code",
   "execution_count": 245,
   "metadata": {
    "scrolled": true
   },
   "outputs": [
    {
     "data": {
      "text/plain": [
       "0.3562154128225258"
      ]
     },
     "execution_count": 245,
     "metadata": {},
     "output_type": "execute_result"
    }
   ],
   "source": [
    "random.uniform(0,1)"
   ]
  },
  {
   "cell_type": "code",
   "execution_count": 246,
   "metadata": {},
   "outputs": [],
   "source": [
    "# l2 = [] \n",
    "# l2.append(df_raw.iloc[i][0])\n",
    "# l2.append(2015)\n",
    "# l2.append(df_raw.iloc[i][1])\n",
    "# l2.append(df_raw.iloc[i][2])\n",
    "# l2.append(df_raw.iloc[i][3])\n",
    "# l2.append(df_raw.iloc[i][4])\n",
    "# l2.append(df_raw.iloc[i][5])\n",
    "# l2.append(df_raw.iloc[i][6])\n",
    "# l2.append(df_raw.iloc[i][7])\n",
    "# l2.append(df_raw.iloc[i][8])\n",
    "# l2.append(df_raw.iloc[i][9])\n",
    "# l2.append(df_raw.iloc[i][10])\n",
    "# l2.append(df_raw.iloc[i][11])\n",
    "# l2.append(df_raw.iloc[i][12])\n",
    "# l2.append(df_raw.iloc[i][13])\n",
    "# l2.append(df_raw.iloc[i][14])\n",
    "# l2.append(df_raw.iloc[i][15])\n",
    "# l.append(l2)\n",
    "# l3 = []\n",
    "# l3.append(df_raw.iloc[i][0])\n",
    "# l3.append(2016)\n",
    "# l3.append(df_raw.iloc[i][1])\n",
    "# l3.append(df_raw.iloc[i][2])\n",
    "# l3.append(df_raw.iloc[i][3]+dic[columns[3]]*random.uniform(0, 1))\n",
    "# l3.append(df_raw.iloc[i][4]+dic[columns[4]]*random.uniform(0, 1))\n",
    "# l3.append(df_raw.iloc[i][5]+dic[columns[5]]*random.uniform(0, 1))\n",
    "# l3.append(df_raw.iloc[i][6]+dic[columns[6]]*random.uniform(0, 1))\n",
    "# l3.append(df_raw.iloc[i][7]+dic[columns[7]]*random.uniform(0, 1))\n",
    "# l3.append(df_raw.iloc[i][8]+dic[columns[8]]*random.uniform(0, 1))\n",
    "# l3.append(df_raw.iloc[i][9]+dic[columns[9]]*random.uniform(0, 1))\n",
    "# l3.append(df_raw.iloc[i][10]+dic[columns[10]]*random.uniform(0, 1))\n",
    "# l3.append(df_raw.iloc[i][11]+dic[columns[11]]*random.uniform(0, 1))\n",
    "# l3.append(df_raw.iloc[i][12]+dic[columns[12]]*random.uniform(0, 1))\n",
    "# l3.append(df_raw.iloc[i][13]+dic[columns[13]]*random.uniform(0, 1))\n",
    "# l3.append(df_raw.iloc[i][14]+dic[columns[14]]*random.uniform(0, 1))\n",
    "# l3.append(df_raw.iloc[i][15]+dic[columns[15]]*random.uniform(0, 1))\n",
    "# l1.append(l3)"
   ]
  },
  {
   "cell_type": "code",
   "execution_count": 247,
   "metadata": {},
   "outputs": [],
   "source": [
    "l = [['month', 'year', 'state', 'Deaths', ' Cases', 'so2', 'no2', 'rspm/pm',\n",
    "       'precipitation', 'population density',\n",
    "       ' Number of Rural Hospitals (Govt.)',\n",
    "       'Number of Urban Hospitals (Govt.)', 'Birth Rate', '% with toilets',\n",
    "       'Humidity', 'Average temp']]\n",
    "l1 = []\n",
    "l10 = {}\n",
    "l5 = [['month', 'year', 'state', 'Deaths', ' Cases', 'so2', 'no2', 'rspm/pm',\n",
    "       'precipitation', 'population density',\n",
    "       ' Number of Rural Hospitals (Govt.)',\n",
    "       'Number of Urban Hospitals (Govt.)', 'Birth Rate', '% with toilets',\n",
    "       'Humidity', 'Average temp']]\n",
    "l6 = [['month', 'year', 'state', 'Deaths', ' Cases', 'so2', 'no2', 'rspm/pm',\n",
    "       'precipitation', 'population density',\n",
    "       ' Number of Rural Hospitals (Govt.)',\n",
    "       'Number of Urban Hospitals (Govt.)', 'Birth Rate', '% with toilets',\n",
    "       'Humidity', 'Average temp']]\n",
    "\n",
    "for i in range(0,360):\n",
    "    if True:\n",
    "        if df_raw.iloc[i][0] == 'Mar':\n",
    "            l10[df_raw.iloc[i][2]]=df_raw.iloc[i][4]\n",
    "        \n",
    "        l2 = [] \n",
    "        l2.append(df_raw.iloc[i][0])\n",
    "        l2.append(2015)\n",
    "        l2.append(df_raw.iloc[i][2])\n",
    "        l2.append(df_raw.iloc[i][3])\n",
    "        l2.append(df_raw.iloc[i][4])\n",
    "        l2.append(df_raw.iloc[i][5])\n",
    "        l2.append(df_raw.iloc[i][6])\n",
    "        l2.append(df_raw.iloc[i][7])\n",
    "        l2.append(df_raw.iloc[i][8])\n",
    "        l2.append(df_raw.iloc[i][9])\n",
    "        l2.append(df_raw.iloc[i][10])\n",
    "        l2.append(df_raw.iloc[i][11])\n",
    "        l2.append(df_raw.iloc[i][12])\n",
    "        l2.append(df_raw.iloc[i][13])\n",
    "        l2.append(df_raw.iloc[i][14])\n",
    "        l2.append(df_raw.iloc[i][15])\n",
    "        l5.append(l2)\n",
    "        l3 = []\n",
    "        l3.append(df_raw.iloc[i][0])\n",
    "        l3.append(2016)\n",
    "        l3.append(df_raw.iloc[i][2])\n",
    "        l3.append(df_raw.iloc[i][3]+dic[columns[3]]*random.uniform(0, 1))\n",
    "        l3.append(df_raw.iloc[i][4]+dic[columns[4]]*random.uniform(0, 1))\n",
    "        l3.append(df_raw.iloc[i][5]+dic[columns[5]]*random.uniform(0, 1))\n",
    "        l3.append(df_raw.iloc[i][6]+dic[columns[6]]*random.uniform(0, 1))\n",
    "        l3.append(df_raw.iloc[i][7]+dic[columns[7]]*random.uniform(0, 1))\n",
    "        l3.append(df_raw.iloc[i][8]+dic[columns[8]]*random.uniform(0, 1))\n",
    "        l3.append(df_raw.iloc[i][9]+dic[columns[9]]*random.uniform(0, 1))\n",
    "        l3.append(df_raw.iloc[i][10]+dic[columns[10]]*random.uniform(0, 1))\n",
    "        l3.append(df_raw.iloc[i][11]+dic[columns[11]]*random.uniform(0, 1))\n",
    "        l3.append(df_raw.iloc[i][12]+dic[columns[12]]*random.uniform(0, 1))\n",
    "        l3.append(df_raw.iloc[i][13]+dic[columns[13]]*random.uniform(0, 1))\n",
    "        l3.append(df_raw.iloc[i][14]+dic[columns[14]]*random.uniform(0, 1))\n",
    "        l3.append(df_raw.iloc[i][15]+dic[columns[15]]*random.uniform(0, 1))\n",
    "        l6.append(l3)   \n",
    "        l1.append(l3)\n",
    "    else:\n",
    "        l2 = [] \n",
    "        l2.append(df_raw.iloc[i][0])\n",
    "        l2.append(2015)\n",
    "        l2.append(df_raw.iloc[i][2])\n",
    "        l2.append(df_raw.iloc[i][3])\n",
    "        l2.append(df_raw.iloc[i][4])\n",
    "        l2.append(df_raw.iloc[i][5])\n",
    "        l2.append(df_raw.iloc[i][6])\n",
    "        l2.append(df_raw.iloc[i][7])\n",
    "        l2.append(df_raw.iloc[i][8])\n",
    "        l2.append(df_raw.iloc[i][9])\n",
    "        l2.append(df_raw.iloc[i][10])\n",
    "        l2.append(df_raw.iloc[i][11])\n",
    "        l2.append(df_raw.iloc[i][12])\n",
    "        l2.append(df_raw.iloc[i][13])\n",
    "        l2.append(df_raw.iloc[i][14])\n",
    "        l2.append(df_raw.iloc[i][15])\n",
    "        l.append(l2)\n",
    "        l3 = []\n",
    "        l3.append(df_raw.iloc[i][0])\n",
    "        l3.append(2016)\n",
    "        l3.append(df_raw.iloc[i][2])\n",
    "        l3.append(df_raw.iloc[i][3]+dic[columns[3]]*random.uniform(0, 1))\n",
    "        l3.append(df_raw.iloc[i][4]+dic[columns[4]]*random.uniform(0, 1))\n",
    "        l3.append(df_raw.iloc[i][5]+dic[columns[5]]*random.uniform(0, 1))\n",
    "        l3.append(df_raw.iloc[i][6]+dic[columns[6]]*random.uniform(0, 1))\n",
    "        l3.append(df_raw.iloc[i][7]+dic[columns[7]]*random.uniform(0, 1))\n",
    "        l3.append(df_raw.iloc[i][8]+dic[columns[8]]*random.uniform(0, 1))\n",
    "        l3.append(df_raw.iloc[i][9]+dic[columns[9]]*random.uniform(0, 1))\n",
    "        l3.append(df_raw.iloc[i][10]+dic[columns[10]]*random.uniform(0, 1))\n",
    "        l3.append(df_raw.iloc[i][11]+dic[columns[11]]*random.uniform(0, 1))\n",
    "        l3.append(df_raw.iloc[i][12]+dic[columns[12]]*random.uniform(0, 1))\n",
    "        l3.append(df_raw.iloc[i][13]+dic[columns[13]]*random.uniform(0, 1))\n",
    "        l3.append(df_raw.iloc[i][14]+dic[columns[14]]*random.uniform(0, 1))\n",
    "        l3.append(df_raw.iloc[i][15]+dic[columns[15]]*random.uniform(0, 1))\n",
    "        l1.append(l3)"
   ]
  },
  {
   "cell_type": "code",
   "execution_count": 248,
   "metadata": {},
   "outputs": [],
   "source": [
    "a = pd.DataFrame(l5+l1)\n",
    "a.to_csv('train_2015_2016.csv',index=False,header=False)\n",
    "b = pd.DataFrame(l6)\n",
    "b.to_csv('test_2015_2016.csv',index=False,header=False)"
   ]
  },
  {
   "cell_type": "code",
   "execution_count": 249,
   "metadata": {},
   "outputs": [],
   "source": [
    "df_train = pd.read_csv(f'{path}train_2015_2016.csv', low_memory=False)\n",
    "df_test = pd.read_csv(f'{path}test_2015_2016.csv', low_memory=False)"
   ]
  },
  {
   "cell_type": "code",
   "execution_count": 250,
   "metadata": {},
   "outputs": [],
   "source": [
    "train_cats(df_train)\n",
    "train_cats(df_test)"
   ]
  },
  {
   "cell_type": "code",
   "execution_count": 251,
   "metadata": {},
   "outputs": [],
   "source": [
    "x_train, y_train, nas = proc_df(df_train, ' Cases')"
   ]
  },
  {
   "cell_type": "code",
   "execution_count": 252,
   "metadata": {},
   "outputs": [],
   "source": [
    "x_test, y_test,nas = proc_df(df_test,' Cases',na_dict=nas)"
   ]
  },
  {
   "cell_type": "code",
   "execution_count": 253,
   "metadata": {},
   "outputs": [
    {
     "name": "stdout",
     "output_type": "stream",
     "text": [
      "0.9237323754240822\n",
      "0.9231079048331596\n"
     ]
    }
   ],
   "source": [
    "m = RandomForestRegressor(n_estimators = 10,n_jobs=-1,max_depth = 6,max_features=0.5)\n",
    "m.fit(x_train, y_train)\n",
    "print(m.score(x_train,y_train))\n",
    "print(m.score(x_test,y_test))"
   ]
  },
  {
   "cell_type": "code",
   "execution_count": 125,
   "metadata": {},
   "outputs": [],
   "source": [
    "train_cats(df_raw)"
   ]
  },
  {
   "cell_type": "code",
   "execution_count": 126,
   "metadata": {
    "scrolled": false
   },
   "outputs": [],
   "source": [
    "df,y,nas = proc_df(df_raw,' Cases',na_dict=nas)"
   ]
  },
  {
   "cell_type": "code",
   "execution_count": 127,
   "metadata": {},
   "outputs": [],
   "source": [
    "fi = rf_feat_importance(m, df)\n",
    "# plt.plot(fi)"
   ]
  },
  {
   "cell_type": "code",
   "execution_count": 128,
   "metadata": {},
   "outputs": [
    {
     "name": "stdout",
     "output_type": "stream",
     "text": [
      "0.9229879232736187\n",
      "0.8300167747195442\n"
     ]
    }
   ],
   "source": [
    "print(m.score(x_train,y_train))\n",
    "print(m.score(x_test,y_test))"
   ]
  },
  {
   "cell_type": "code",
   "execution_count": 225,
   "metadata": {
    "scrolled": true
   },
   "outputs": [
    {
     "data": {
      "text/plain": [
       "{'Andhra Pradesh': 44,\n",
       " 'Arunachal Pradesh': 0,\n",
       " 'Assam': 45,\n",
       " 'Bihar': 16,\n",
       " 'Chhattisgarh': 3,\n",
       " 'Delhi': 83,\n",
       " 'Goa': 2,\n",
       " 'Gujarat': 42,\n",
       " 'Haryana': 40,\n",
       " 'Himachal Pradesh': 4,\n",
       " 'Jammu & Kashmir': 4,\n",
       " 'Jharkhand': 6,\n",
       " 'Karnataka': 160,\n",
       " 'Kerala': 179,\n",
       " 'Madhya Pradesh': 23,\n",
       " 'Maharashtra': 70,\n",
       " 'Meghalaya': 0,\n",
       " 'Manipur': 1,\n",
       " 'Mizoram': 1,\n",
       " 'Nagaland': 3,\n",
       " 'Odisha': 37,\n",
       " 'Punjab': 138,\n",
       " 'Rajasthan': 75,\n",
       " 'Sikkim': 2,\n",
       " 'Tamil Nadu': 208,\n",
       " 'Telangana': 48,\n",
       " 'Tripura': 1,\n",
       " 'Uttar Pradesh': 27,\n",
       " 'Uttarakhand': 7,\n",
       " 'West Bengal': 338}"
      ]
     },
     "execution_count": 225,
     "metadata": {},
     "output_type": "execute_result"
    }
   ],
   "source": [
    "l10"
   ]
  },
  {
   "cell_type": "code",
   "execution_count": null,
   "metadata": {},
   "outputs": [],
   "source": []
  }
 ],
 "metadata": {
  "kernelspec": {
   "display_name": "Python 3",
   "language": "python",
   "name": "python3"
  },
  "language_info": {
   "codemirror_mode": {
    "name": "ipython",
    "version": 3
   },
   "file_extension": ".py",
   "mimetype": "text/x-python",
   "name": "python",
   "nbconvert_exporter": "python",
   "pygments_lexer": "ipython3",
   "version": "3.6.7"
  }
 },
 "nbformat": 4,
 "nbformat_minor": 2
}
